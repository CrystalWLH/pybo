{
 "cells": [
  {
   "cell_type": "markdown",
   "metadata": {},
   "source": [
    "Preprocessing an input string is the basis needed to do higher-level operations such as tokenizing."
   ]
  },
  {
   "cell_type": "code",
   "execution_count": 3,
   "metadata": {},
   "outputs": [],
   "source": [
    "input_str = '༆ ཤི་བཀྲ་ཤིས་  tr བདེ་་ལེ གས། བཀྲ་ཤིས་བདེ་ལེགས་༡༢༣ཀཀ། མཐའི་རྒྱ་མཚོར་གནས་པའི་ཉས་ཆུ་འཐུང་།། །།མཁའ།'"
   ]
  },
  {
   "cell_type": "markdown",
   "metadata": {},
   "source": [
    "# pybotextchunks.py"
   ]
  },
  {
   "cell_type": "markdown",
   "metadata": {},
   "source": [
    "This class is a wrapper around PyBoChunk (that it subclasses).\n",
    "Its main purpose is to provide the input to be fed into the trie within tokenizer.py\n",
    "\n",
    "Here is what it produces:"
   ]
  },
  {
   "cell_type": "code",
   "execution_count": 21,
   "metadata": {},
   "outputs": [
    {
     "name": "stdout",
     "output_type": "stream",
     "text": [
      "The output is a <class 'list'> of <class 'tuple'> containing each 2 elements.\n",
      "\t (None, (102, 0, 2))\n",
      "The first element is either a <class 'NoneType'> or a <class 'list'> of ints\n",
      "\t None or [2, 3]\n",
      "The second element is a <class 'tuple'> always containing 3 <class 'int'>\n",
      "\t (102, 0, 2)\n"
     ]
    }
   ],
   "source": [
    "from pybo import PyBoTextChunks\n",
    "text_chunks = PyBoTextChunks(input_str)\n",
    "\n",
    "output = text_chunks.serve_syls_to_trie()\n",
    "print(f'The output is a {type(output)} of {type(output[0])} containing each {len(output[0])} elements.')\n",
    "print('\\t', output[0])\n",
    "print(f'The first element is either a {type(output[0][0])} or a {type(output[1][0])} of ints')\n",
    "print('\\t', output[0][0], 'or', output[1][0])\n",
    "print(f'The second element is a {type(output[0][1])} always containing {len(output[0][1])} {type(output[0][1][0])}')\n",
    "print('\\t', output[0][1])"
   ]
  },
  {
   "cell_type": "code",
   "execution_count": 28,
   "metadata": {},
   "outputs": [
    {
     "name": "stdout",
     "output_type": "stream",
     "text": [
      "1.\t None\t\t\t(102, 0, 2)\n",
      "2.\t [2, 3]\t\t\t(106, 2, 3)\n",
      "3.\t [5, 6, 7]\t\t\t(106, 5, 4)\n",
      "4.\t [9, 10, 11]\t\t\t(106, 9, 6)\n",
      "5.\t None\t\t\t(101, 15, 3)\n",
      "6.\t [18, 19, 20]\t\t\t(106, 18, 5)\n",
      "7.\t [23, 24, 26, 27]\t\t\t(106, 23, 5)\n",
      "8.\t None\t\t\t(102, 28, 2)\n",
      "9.\t [30, 31, 32]\t\t\t(106, 30, 4)\n",
      "10.\t [34, 35, 36]\t\t\t(106, 34, 4)\n",
      "11.\t [38, 39, 40]\t\t\t(106, 38, 4)\n",
      "12.\t [42, 43, 44, 45]\t\t\t(106, 42, 5)\n",
      "13.\t None\t\t\t(109, 47, 3)\n",
      "14.\t [50, 51]\t\t\t(106, 50, 2)\n",
      "15.\t None\t\t\t(102, 52, 2)\n",
      "16.\t [54, 55, 56, 57]\t\t\t(106, 54, 5)\n",
      "17.\t [59, 60, 61]\t\t\t(106, 59, 4)\n",
      "18.\t [63, 64, 65, 66]\t\t\t(106, 63, 5)\n",
      "19.\t [68, 69, 70]\t\t\t(106, 68, 4)\n",
      "20.\t [72, 73, 74]\t\t\t(106, 72, 4)\n",
      "21.\t [76, 77]\t\t\t(106, 76, 3)\n",
      "22.\t [79, 80]\t\t\t(106, 79, 3)\n",
      "23.\t [82, 83, 84, 85]\t\t\t(106, 82, 5)\n",
      "24.\t None\t\t\t(102, 87, 5)\n",
      "25.\t [92, 93, 94]\t\t\t(106, 92, 3)\n",
      "26.\t None\t\t\t(102, 95, 1)\n"
     ]
    }
   ],
   "source": [
    "for n, trie_input in enumerate(output):\n",
    "    print(f'{n+1}.\\t {trie_input[0]}\\t\\t\\t{trie_input[1]}')"
   ]
  },
  {
   "cell_type": "markdown",
   "metadata": {},
   "source": [
    "The first element provides the information to the trie that a given chunk is a syllable, and thus should be fed to the trie, or that it is not a syllable.\n",
    "\n",
    "In case it is a syllable, its elements are indices of the characters that constitute the syllable:"
   ]
  },
  {
   "cell_type": "code",
   "execution_count": 38,
   "metadata": {},
   "outputs": [
    {
     "name": "stdout",
     "output_type": "stream",
     "text": [
      "\t ༆ ཤི་བཀྲ་ཤིས་  tr བདེ་་ལེ གས། བཀྲ་ཤིས་བདེ་ལེགས་༡༢༣ཀཀ། མཐའི་རྒྱ་མཚོར་གནས་པའི་ཉས་ཆུ་འཐུང་།། །།མཁའ།\n",
      "1.\n",
      "2.\t['ཤ', 'ི', '་']\n",
      "3.\t['བ', 'ཀ', 'ྲ', '་']\n",
      "4.\t['ཤ', 'ི', 'ས', '་']\n",
      "5.\n",
      "6.\t['བ', 'ད', 'ེ', '་']\n",
      "7.\t['ལ', 'ེ', 'ག', 'ས', '་']\n",
      "8.\n",
      "9.\t['བ', 'ཀ', 'ྲ', '་']\n",
      "10.\t['ཤ', 'ི', 'ས', '་']\n",
      "11.\t['བ', 'ད', 'ེ', '་']\n",
      "12.\t['ལ', 'ེ', 'ག', 'ས', '་']\n",
      "13.\n",
      "14.\t['ཀ', 'ཀ', '་']\n",
      "15.\n",
      "16.\t['མ', 'ཐ', 'འ', 'ི', '་']\n",
      "17.\t['ར', 'ྒ', 'ྱ', '་']\n",
      "18.\t['མ', 'ཚ', 'ོ', 'ར', '་']\n",
      "19.\t['ག', 'ན', 'ས', '་']\n",
      "20.\t['པ', 'འ', 'ི', '་']\n",
      "21.\t['ཉ', 'ས', '་']\n",
      "22.\t['ཆ', 'ུ', '་']\n",
      "23.\t['འ', 'ཐ', 'ུ', 'ང', '་']\n",
      "24.\n",
      "25.\t['མ', 'ཁ', 'འ', '་']\n",
      "26.\n"
     ]
    }
   ],
   "source": [
    "print('\\t', input_str)\n",
    "for n, trie_input in enumerate(output):\n",
    "    syl = trie_input[0]\n",
    "    if syl:\n",
    "        syllable = [input_str[s] for s in syl] + ['་']\n",
    "        print(f'{n+1}.\\t{syllable}')\n",
    "    else:\n",
    "        print(f'{n+1}.')"
   ]
  },
  {
   "cell_type": "markdown",
   "metadata": {},
   "source": [
    "Punctuation chunks are left aside, non-Tibetan parts also and the content of the syllable has been cleaned.\n",
    "In token 6, the double tsek has been normalized to a single tsek.\n",
    "In token 7, the space in the middle has been left aside.\n",
    "On top of this, the non-syllabic chunks give us a cue that any ongoing word has to end there.\n",
    "\n",
    "Now, this cleaned content can be fed in the trie, syllable after syllable, character after character.\n",
    "\n",
    "As for the second element, the tuple containing 3 ints, it is the output of PyBoChunk."
   ]
  },
  {
   "cell_type": "markdown",
   "metadata": {},
   "source": [
    "# pybochunk.py"
   ]
  },
  {
   "cell_type": "code",
   "execution_count": 40,
   "metadata": {},
   "outputs": [],
   "source": [
    "from pybo import PyBoChunk\n",
    "\n",
    "chunk = PyBoChunk(input_str)\n",
    "output = chunk.chunk()"
   ]
  },
  {
   "cell_type": "code",
   "execution_count": null,
   "metadata": {},
   "outputs": [],
   "source": []
  }
 ],
 "metadata": {
  "kernelspec": {
   "display_name": "Python 3",
   "language": "python",
   "name": "python3"
  },
  "language_info": {
   "codemirror_mode": {
    "name": "ipython",
    "version": 3
   },
   "file_extension": ".py",
   "mimetype": "text/x-python",
   "name": "python",
   "nbconvert_exporter": "python",
   "pygments_lexer": "ipython3",
   "version": "3.6.5"
  }
 },
 "nbformat": 4,
 "nbformat_minor": 2
}
